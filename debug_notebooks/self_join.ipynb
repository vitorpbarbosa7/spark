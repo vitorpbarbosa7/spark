{
 "cells": [
  {
   "cell_type": "code",
   "execution_count": 1,
   "id": "ab891dad",
   "metadata": {
    "ExecuteTime": {
     "end_time": "2022-11-06T11:52:32.709157Z",
     "start_time": "2022-11-06T11:52:31.117772Z"
    }
   },
   "outputs": [],
   "source": [
    "import pandas as pd"
   ]
  },
  {
   "cell_type": "code",
   "execution_count": 9,
   "id": "f66fd025",
   "metadata": {
    "ExecuteTime": {
     "end_time": "2022-11-06T11:54:40.712756Z",
     "start_time": "2022-11-06T11:54:40.660903Z"
    }
   },
   "outputs": [],
   "source": [
    "df = pd.read_csv('../before_cloud_movies_example/ml-100k/u.data',\n",
    "                 header = None, sep = '\\t')"
   ]
  },
  {
   "cell_type": "code",
   "execution_count": 11,
   "id": "b8861b0d",
   "metadata": {
    "ExecuteTime": {
     "end_time": "2022-11-06T11:55:03.450839Z",
     "start_time": "2022-11-06T11:55:03.444794Z"
    }
   },
   "outputs": [],
   "source": [
    "df.columns = ['userID', 'movieID', 'rating', 'timestamp']"
   ]
  },
  {
   "cell_type": "code",
   "execution_count": 12,
   "id": "f6ee61f9",
   "metadata": {
    "ExecuteTime": {
     "end_time": "2022-11-06T11:55:03.676553Z",
     "start_time": "2022-11-06T11:55:03.657047Z"
    }
   },
   "outputs": [
    {
     "data": {
      "text/html": [
       "<div>\n",
       "<style scoped>\n",
       "    .dataframe tbody tr th:only-of-type {\n",
       "        vertical-align: middle;\n",
       "    }\n",
       "\n",
       "    .dataframe tbody tr th {\n",
       "        vertical-align: top;\n",
       "    }\n",
       "\n",
       "    .dataframe thead th {\n",
       "        text-align: right;\n",
       "    }\n",
       "</style>\n",
       "<table border=\"1\" class=\"dataframe\">\n",
       "  <thead>\n",
       "    <tr style=\"text-align: right;\">\n",
       "      <th></th>\n",
       "      <th>userID</th>\n",
       "      <th>movieID</th>\n",
       "      <th>rating</th>\n",
       "      <th>timestamp</th>\n",
       "    </tr>\n",
       "  </thead>\n",
       "  <tbody>\n",
       "    <tr>\n",
       "      <th>0</th>\n",
       "      <td>196</td>\n",
       "      <td>242</td>\n",
       "      <td>3</td>\n",
       "      <td>881250949</td>\n",
       "    </tr>\n",
       "    <tr>\n",
       "      <th>1</th>\n",
       "      <td>186</td>\n",
       "      <td>302</td>\n",
       "      <td>3</td>\n",
       "      <td>891717742</td>\n",
       "    </tr>\n",
       "    <tr>\n",
       "      <th>2</th>\n",
       "      <td>22</td>\n",
       "      <td>377</td>\n",
       "      <td>1</td>\n",
       "      <td>878887116</td>\n",
       "    </tr>\n",
       "    <tr>\n",
       "      <th>3</th>\n",
       "      <td>244</td>\n",
       "      <td>51</td>\n",
       "      <td>2</td>\n",
       "      <td>880606923</td>\n",
       "    </tr>\n",
       "    <tr>\n",
       "      <th>4</th>\n",
       "      <td>166</td>\n",
       "      <td>346</td>\n",
       "      <td>1</td>\n",
       "      <td>886397596</td>\n",
       "    </tr>\n",
       "    <tr>\n",
       "      <th>...</th>\n",
       "      <td>...</td>\n",
       "      <td>...</td>\n",
       "      <td>...</td>\n",
       "      <td>...</td>\n",
       "    </tr>\n",
       "    <tr>\n",
       "      <th>99995</th>\n",
       "      <td>880</td>\n",
       "      <td>476</td>\n",
       "      <td>3</td>\n",
       "      <td>880175444</td>\n",
       "    </tr>\n",
       "    <tr>\n",
       "      <th>99996</th>\n",
       "      <td>716</td>\n",
       "      <td>204</td>\n",
       "      <td>5</td>\n",
       "      <td>879795543</td>\n",
       "    </tr>\n",
       "    <tr>\n",
       "      <th>99997</th>\n",
       "      <td>276</td>\n",
       "      <td>1090</td>\n",
       "      <td>1</td>\n",
       "      <td>874795795</td>\n",
       "    </tr>\n",
       "    <tr>\n",
       "      <th>99998</th>\n",
       "      <td>13</td>\n",
       "      <td>225</td>\n",
       "      <td>2</td>\n",
       "      <td>882399156</td>\n",
       "    </tr>\n",
       "    <tr>\n",
       "      <th>99999</th>\n",
       "      <td>12</td>\n",
       "      <td>203</td>\n",
       "      <td>3</td>\n",
       "      <td>879959583</td>\n",
       "    </tr>\n",
       "  </tbody>\n",
       "</table>\n",
       "<p>100000 rows × 4 columns</p>\n",
       "</div>"
      ],
      "text/plain": [
       "       userID  movieID  rating  timestamp\n",
       "0         196      242       3  881250949\n",
       "1         186      302       3  891717742\n",
       "2          22      377       1  878887116\n",
       "3         244       51       2  880606923\n",
       "4         166      346       1  886397596\n",
       "...       ...      ...     ...        ...\n",
       "99995     880      476       3  880175444\n",
       "99996     716      204       5  879795543\n",
       "99997     276     1090       1  874795795\n",
       "99998      13      225       2  882399156\n",
       "99999      12      203       3  879959583\n",
       "\n",
       "[100000 rows x 4 columns]"
      ]
     },
     "execution_count": 12,
     "metadata": {},
     "output_type": "execute_result"
    }
   ],
   "source": [
    "df"
   ]
  },
  {
   "cell_type": "code",
   "execution_count": 28,
   "id": "3ba427d0",
   "metadata": {
    "ExecuteTime": {
     "end_time": "2022-11-06T12:00:18.777068Z",
     "start_time": "2022-11-06T12:00:18.034138Z"
    }
   },
   "outputs": [],
   "source": [
    "df_self = pd.merge(\n",
    "    left = df,\n",
    "    right = df,\n",
    "    on = 'userID',\n",
    "    how = 'inner'\n",
    ")"
   ]
  },
  {
   "cell_type": "code",
   "execution_count": 29,
   "id": "3f63ce7b",
   "metadata": {
    "ExecuteTime": {
     "end_time": "2022-11-06T12:00:26.640377Z",
     "start_time": "2022-11-06T12:00:23.832868Z"
    }
   },
   "outputs": [],
   "source": [
    "df_self_diff = df_self[df_self['movieID_x']!=df_self['movieID_y']]"
   ]
  },
  {
   "cell_type": "code",
   "execution_count": 30,
   "id": "aaf82775",
   "metadata": {
    "ExecuteTime": {
     "end_time": "2022-11-06T12:00:28.239361Z",
     "start_time": "2022-11-06T12:00:28.227387Z"
    }
   },
   "outputs": [
    {
     "data": {
      "text/plain": [
       "(20100812, 7)"
      ]
     },
     "execution_count": 30,
     "metadata": {},
     "output_type": "execute_result"
    }
   ],
   "source": [
    "df_self_diff.shape"
   ]
  },
  {
   "cell_type": "code",
   "execution_count": 31,
   "id": "c455c126",
   "metadata": {
    "ExecuteTime": {
     "end_time": "2022-11-06T12:00:35.347508Z",
     "start_time": "2022-11-06T12:00:35.324117Z"
    }
   },
   "outputs": [
    {
     "data": {
      "text/html": [
       "<div>\n",
       "<style scoped>\n",
       "    .dataframe tbody tr th:only-of-type {\n",
       "        vertical-align: middle;\n",
       "    }\n",
       "\n",
       "    .dataframe tbody tr th {\n",
       "        vertical-align: top;\n",
       "    }\n",
       "\n",
       "    .dataframe thead th {\n",
       "        text-align: right;\n",
       "    }\n",
       "</style>\n",
       "<table border=\"1\" class=\"dataframe\">\n",
       "  <thead>\n",
       "    <tr style=\"text-align: right;\">\n",
       "      <th></th>\n",
       "      <th>userID</th>\n",
       "      <th>movieID_x</th>\n",
       "      <th>rating_x</th>\n",
       "      <th>timestamp_x</th>\n",
       "      <th>movieID_y</th>\n",
       "      <th>rating_y</th>\n",
       "      <th>timestamp_y</th>\n",
       "    </tr>\n",
       "  </thead>\n",
       "  <tbody>\n",
       "    <tr>\n",
       "      <th>1</th>\n",
       "      <td>196</td>\n",
       "      <td>242</td>\n",
       "      <td>3</td>\n",
       "      <td>881250949</td>\n",
       "      <td>393</td>\n",
       "      <td>4</td>\n",
       "      <td>881251863</td>\n",
       "    </tr>\n",
       "    <tr>\n",
       "      <th>2</th>\n",
       "      <td>196</td>\n",
       "      <td>242</td>\n",
       "      <td>3</td>\n",
       "      <td>881250949</td>\n",
       "      <td>381</td>\n",
       "      <td>4</td>\n",
       "      <td>881251728</td>\n",
       "    </tr>\n",
       "    <tr>\n",
       "      <th>3</th>\n",
       "      <td>196</td>\n",
       "      <td>242</td>\n",
       "      <td>3</td>\n",
       "      <td>881250949</td>\n",
       "      <td>251</td>\n",
       "      <td>3</td>\n",
       "      <td>881251274</td>\n",
       "    </tr>\n",
       "    <tr>\n",
       "      <th>4</th>\n",
       "      <td>196</td>\n",
       "      <td>242</td>\n",
       "      <td>3</td>\n",
       "      <td>881250949</td>\n",
       "      <td>655</td>\n",
       "      <td>5</td>\n",
       "      <td>881251793</td>\n",
       "    </tr>\n",
       "    <tr>\n",
       "      <th>5</th>\n",
       "      <td>196</td>\n",
       "      <td>242</td>\n",
       "      <td>3</td>\n",
       "      <td>881250949</td>\n",
       "      <td>67</td>\n",
       "      <td>5</td>\n",
       "      <td>881252017</td>\n",
       "    </tr>\n",
       "    <tr>\n",
       "      <th>...</th>\n",
       "      <td>...</td>\n",
       "      <td>...</td>\n",
       "      <td>...</td>\n",
       "      <td>...</td>\n",
       "      <td>...</td>\n",
       "      <td>...</td>\n",
       "      <td>...</td>\n",
       "    </tr>\n",
       "    <tr>\n",
       "      <th>20200806</th>\n",
       "      <td>941</td>\n",
       "      <td>1007</td>\n",
       "      <td>4</td>\n",
       "      <td>875049077</td>\n",
       "      <td>300</td>\n",
       "      <td>4</td>\n",
       "      <td>875048495</td>\n",
       "    </tr>\n",
       "    <tr>\n",
       "      <th>20200807</th>\n",
       "      <td>941</td>\n",
       "      <td>1007</td>\n",
       "      <td>4</td>\n",
       "      <td>875049077</td>\n",
       "      <td>919</td>\n",
       "      <td>5</td>\n",
       "      <td>875048887</td>\n",
       "    </tr>\n",
       "    <tr>\n",
       "      <th>20200808</th>\n",
       "      <td>941</td>\n",
       "      <td>1007</td>\n",
       "      <td>4</td>\n",
       "      <td>875049077</td>\n",
       "      <td>273</td>\n",
       "      <td>3</td>\n",
       "      <td>875049038</td>\n",
       "    </tr>\n",
       "    <tr>\n",
       "      <th>20200809</th>\n",
       "      <td>941</td>\n",
       "      <td>1007</td>\n",
       "      <td>4</td>\n",
       "      <td>875049077</td>\n",
       "      <td>1</td>\n",
       "      <td>5</td>\n",
       "      <td>875049144</td>\n",
       "    </tr>\n",
       "    <tr>\n",
       "      <th>20200810</th>\n",
       "      <td>941</td>\n",
       "      <td>1007</td>\n",
       "      <td>4</td>\n",
       "      <td>875049077</td>\n",
       "      <td>294</td>\n",
       "      <td>4</td>\n",
       "      <td>875048532</td>\n",
       "    </tr>\n",
       "  </tbody>\n",
       "</table>\n",
       "<p>20100812 rows × 7 columns</p>\n",
       "</div>"
      ],
      "text/plain": [
       "          userID  movieID_x  rating_x  timestamp_x  movieID_y  rating_y  \\\n",
       "1            196        242         3    881250949        393         4   \n",
       "2            196        242         3    881250949        381         4   \n",
       "3            196        242         3    881250949        251         3   \n",
       "4            196        242         3    881250949        655         5   \n",
       "5            196        242         3    881250949         67         5   \n",
       "...          ...        ...       ...          ...        ...       ...   \n",
       "20200806     941       1007         4    875049077        300         4   \n",
       "20200807     941       1007         4    875049077        919         5   \n",
       "20200808     941       1007         4    875049077        273         3   \n",
       "20200809     941       1007         4    875049077          1         5   \n",
       "20200810     941       1007         4    875049077        294         4   \n",
       "\n",
       "          timestamp_y  \n",
       "1           881251863  \n",
       "2           881251728  \n",
       "3           881251274  \n",
       "4           881251793  \n",
       "5           881252017  \n",
       "...               ...  \n",
       "20200806    875048495  \n",
       "20200807    875048887  \n",
       "20200808    875049038  \n",
       "20200809    875049144  \n",
       "20200810    875048532  \n",
       "\n",
       "[20100812 rows x 7 columns]"
      ]
     },
     "execution_count": 31,
     "metadata": {},
     "output_type": "execute_result"
    }
   ],
   "source": [
    "df_self_diff"
   ]
  }
 ],
 "metadata": {
  "kernelspec": {
   "display_name": "Python 3 (ipykernel)",
   "language": "python",
   "name": "python3"
  },
  "language_info": {
   "codemirror_mode": {
    "name": "ipython",
    "version": 3
   },
   "file_extension": ".py",
   "mimetype": "text/x-python",
   "name": "python",
   "nbconvert_exporter": "python",
   "pygments_lexer": "ipython3",
   "version": "3.9.7"
  },
  "toc": {
   "base_numbering": 1,
   "nav_menu": {},
   "number_sections": true,
   "sideBar": true,
   "skip_h1_title": false,
   "title_cell": "Table of Contents",
   "title_sidebar": "Contents",
   "toc_cell": false,
   "toc_position": {},
   "toc_section_display": true,
   "toc_window_display": false
  }
 },
 "nbformat": 4,
 "nbformat_minor": 5
}
