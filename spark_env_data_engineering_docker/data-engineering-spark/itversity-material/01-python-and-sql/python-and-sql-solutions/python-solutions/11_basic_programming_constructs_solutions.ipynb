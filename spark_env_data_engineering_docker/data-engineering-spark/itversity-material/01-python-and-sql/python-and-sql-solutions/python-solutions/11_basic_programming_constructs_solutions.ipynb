{
 "cells": [
  {
   "cell_type": "markdown",
   "metadata": {},
   "source": [
    "## Exercises - Basic Programming Constructs\n",
    "\n",
    "Please take care of following exercises.\n",
    "\n",
    "* Get sum of integers for a given range."
   ]
  },
  {
   "cell_type": "code",
   "execution_count": 1,
   "metadata": {
    "collapsed": false,
    "jupyter": {
     "outputs_hidden": false
    },
    "pycharm": {
     "name": "#%%\n"
    }
   },
   "outputs": [
    {
     "name": "stdout",
     "output_type": "stream",
     "text": [
      "45\n"
     ]
    }
   ],
   "source": [
    "lb = 5\n",
    "ub = 10\n",
    "\n",
    "total = 0\n",
    "for i in range(lb,ub+1):\n",
    "    \n",
    "    total += i\n",
    "    \n",
    "print(total)\n",
    "# Complexity: o(n)"
   ]
  },
  {
   "cell_type": "markdown",
   "metadata": {},
   "source": [
    "* If you recollect your high school mathematics, there is a formula to get sum of integers for 1 to n. It is nothing but **(n * (n + 1))/2**. Using that we should be able to get sum of integers with in a given range between lower bound (lb) and upper bound (ub). It is nothing but\n",
    "\n",
    "**((ub * (ub + 1)) / 2) - (((lb - 1) * lb) / 2)**"
   ]
  },
  {
   "cell_type": "code",
   "execution_count": 2,
   "metadata": {
    "collapsed": false,
    "jupyter": {
     "outputs_hidden": false
    },
    "pycharm": {
     "name": "#%%\n"
    }
   },
   "outputs": [
    {
     "name": "stdout",
     "output_type": "stream",
     "text": [
      "10\n"
     ]
    }
   ],
   "source": [
    "lb1 = lb - 1\n",
    "res1 = lb1 * (lb1 + 1) / 2\n",
    "print(int(res1))"
   ]
  },
  {
   "cell_type": "code",
   "execution_count": 3,
   "metadata": {
    "collapsed": false,
    "jupyter": {
     "outputs_hidden": false
    },
    "pycharm": {
     "name": "#%%\n"
    }
   },
   "outputs": [
    {
     "name": "stdout",
     "output_type": "stream",
     "text": [
      "55\n"
     ]
    }
   ],
   "source": [
    "res2 = ub * (ub + 1) / 2\n",
    "print(int(res2))"
   ]
  },
  {
   "cell_type": "code",
   "execution_count": 4,
   "metadata": {
    "collapsed": false,
    "jupyter": {
     "outputs_hidden": false
    },
    "pycharm": {
     "name": "#%%\n"
    }
   },
   "outputs": [
    {
     "name": "stdout",
     "output_type": "stream",
     "text": [
      "45\n"
     ]
    }
   ],
   "source": [
    "print(int(res2 - res1))\n",
    "# Complexity: o(1)"
   ]
  },
  {
   "cell_type": "code",
   "execution_count": 5,
   "metadata": {
    "collapsed": false,
    "jupyter": {
     "outputs_hidden": false
    },
    "pycharm": {
     "name": "#%%\n"
    }
   },
   "outputs": [],
   "source": [
    "# o(1) is much better solution when compared to o(n)"
   ]
  },
  {
   "cell_type": "markdown",
   "metadata": {},
   "source": [
    "### Exercise 2 - Get sum of squares of integers\n",
    "\n",
    "Get sum of squares of integers for a given range using **formula** - for 2 to 4, it should be 29. You can google around to get the formula for sum of squares of integers for 1 to n."
   ]
  },
  {
   "cell_type": "code",
   "execution_count": 6,
   "metadata": {},
   "outputs": [
    {
     "data": {
      "text/plain": [
       "29"
      ]
     },
     "execution_count": 6,
     "metadata": {},
     "output_type": "execute_result"
    }
   ],
   "source": [
    "lb = 2\n",
    "ub = 4\n",
    "\n",
    "result1 = int((lb * (lb+1) * ((2 * lb) + 1))/6)\n",
    "result2 = int(ub * (ub+1) * (2 * ub + 1)/6)\n",
    "result = int((result2 - result1)+lb ** 2)\n",
    "result"
   ]
  },
  {
   "cell_type": "markdown",
   "metadata": {},
   "source": [
    "### Exercise 3 - Get sum of even numbers\n",
    "\n",
    "Get sum of even numbers for a given range - for 5 to 10, it should 24."
   ]
  },
  {
   "cell_type": "code",
   "execution_count": 8,
   "metadata": {},
   "outputs": [
    {
     "data": {
      "text/plain": [
       "24"
      ]
     },
     "execution_count": 8,
     "metadata": {},
     "output_type": "execute_result"
    }
   ],
   "source": [
    "lb = 5\n",
    "ub = 10\n",
    "if lb % 2 != 0:\n",
    "    lb = lb+1\n",
    "if ub % 2 != 0:\n",
    "    ub= ub-1\n",
    "res = int((ub-lb)/2+1)\n",
    "result = int((res / 2) * (lb+ub))\n",
    "result"
   ]
  },
  {
   "cell_type": "markdown",
   "metadata": {},
   "source": [
    "### Exercise 4 - Get sum of numbers in a list\n",
    "\n",
    "Create a collection using `[1, 6, 8, 3, 7, 2, 9]` and get sum of even numbers. Answer should be 16."
   ]
  },
  {
   "cell_type": "code",
   "execution_count": 10,
   "metadata": {},
   "outputs": [
    {
     "name": "stdout",
     "output_type": "stream",
     "text": [
      "16\n"
     ]
    }
   ],
   "source": [
    "l=[1, 6, 8, 3, 7, 2, 9]\n",
    "res = 0\n",
    "for i in l:\n",
    "    if i%2 == 0:\n",
    "        res += i\n",
    "print(res)"
   ]
  },
  {
   "cell_type": "markdown",
   "metadata": {},
   "source": [
    "### Exercise 5 - Get sum of numbers divisible by 3\n",
    "\n",
    "Using the same collection get sum of numbers divisible by 3. Answer should be 18."
   ]
  },
  {
   "cell_type": "code",
   "execution_count": 11,
   "metadata": {},
   "outputs": [
    {
     "name": "stdout",
     "output_type": "stream",
     "text": [
      "18\n"
     ]
    }
   ],
   "source": [
    "l=[1, 6, 8, 3, 7, 2, 9]\n",
    "res  = 0\n",
    "for i in l:\n",
    "    if i%3 == 0:\n",
    "        res += i\n",
    "print(res)"
   ]
  },
  {
   "cell_type": "code",
   "execution_count": null,
   "metadata": {},
   "outputs": [],
   "source": []
  }
 ],
 "metadata": {
  "kernelspec": {
   "display_name": "python37",
   "language": "python",
   "name": "python37"
  },
  "language_info": {
   "codemirror_mode": {
    "name": "ipython",
    "version": 3
   },
   "file_extension": ".py",
   "mimetype": "text/x-python",
   "name": "python",
   "nbconvert_exporter": "python",
   "pygments_lexer": "ipython3",
   "version": "3.7.10"
  }
 },
 "nbformat": 4,
 "nbformat_minor": 4
}
