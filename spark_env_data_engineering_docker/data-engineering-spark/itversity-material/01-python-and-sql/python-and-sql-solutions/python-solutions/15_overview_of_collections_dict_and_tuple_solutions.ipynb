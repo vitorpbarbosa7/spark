{
 "cells": [
  {
   "cell_type": "markdown",
   "id": "0af58917",
   "metadata": {},
   "source": [
    "## Exercises - Dicts and Tuples\n",
    "\n",
    "Let us go through some exercises related to dict and tuple."
   ]
  },
  {
   "cell_type": "markdown",
   "id": "b5e7060b",
   "metadata": {},
   "source": [
    "### Exercise 1 - Access all the values\n",
    "\n",
    "Get the values from the below dict in the form of a list."
   ]
  },
  {
   "cell_type": "code",
   "execution_count": 1,
   "id": "e70c0f06",
   "metadata": {},
   "outputs": [],
   "source": [
    "d = {\n",
    "    'order_id': 1,\n",
    "    'order_date': '2013-07-25',\n",
    "    'order_customer_id': 100,\n",
    "    'order_status': 'COMPLETE'\n",
    "}"
   ]
  },
  {
   "cell_type": "code",
   "execution_count": 2,
   "id": "c32fe280",
   "metadata": {},
   "outputs": [],
   "source": [
    "def get_values(d):\n",
    "    for values in d:\n",
    "        values = d.values()\n",
    "        values_list = list(values)\n",
    "\n",
    "\n",
    "    l = values_list[0:4]\n",
    "    return l"
   ]
  },
  {
   "cell_type": "code",
   "execution_count": 3,
   "id": "d269cf1e",
   "metadata": {},
   "outputs": [
    {
     "data": {
      "text/plain": [
       "[1, '2013-07-25', 100, 'COMPLETE']"
      ]
     },
     "execution_count": 3,
     "metadata": {},
     "output_type": "execute_result"
    }
   ],
   "source": [
    "l=get_values(d) # Desired output: [1, '2013-07-25', 100, 'COMPLETE']\n",
    "l"
   ]
  },
  {
   "cell_type": "code",
   "execution_count": 4,
   "id": "dd42ad3d",
   "metadata": {},
   "outputs": [
    {
     "data": {
      "text/plain": [
       "list"
      ]
     },
     "execution_count": 4,
     "metadata": {},
     "output_type": "execute_result"
    }
   ],
   "source": [
    "type(get_values(d)) # list"
   ]
  },
  {
   "cell_type": "code",
   "execution_count": 5,
   "id": "2e9c3af4",
   "metadata": {},
   "outputs": [],
   "source": [
    "def get_values(d):\n",
    "    l = list(d.values())\n",
    "    return l"
   ]
  },
  {
   "cell_type": "code",
   "execution_count": 6,
   "id": "4246b74e",
   "metadata": {},
   "outputs": [
    {
     "data": {
      "text/plain": [
       "list"
      ]
     },
     "execution_count": 6,
     "metadata": {},
     "output_type": "execute_result"
    }
   ],
   "source": [
    "type(get_values(d)) # list"
   ]
  },
  {
   "cell_type": "code",
   "execution_count": 7,
   "id": "babc8b19",
   "metadata": {},
   "outputs": [
    {
     "data": {
      "text/plain": [
       "[1, '2013-07-25', 100, 'COMPLETE']"
      ]
     },
     "execution_count": 7,
     "metadata": {},
     "output_type": "execute_result"
    }
   ],
   "source": [
    "get_values(d)"
   ]
  },
  {
   "cell_type": "markdown",
   "id": "ff478f35",
   "metadata": {},
   "source": [
    "### Exercise 2 - Get Data types of values\n",
    "\n",
    "Continue on previous exercise and print data type of each value returned by get_values."
   ]
  },
  {
   "cell_type": "code",
   "execution_count": 8,
   "id": "6c721126",
   "metadata": {},
   "outputs": [
    {
     "name": "stdout",
     "output_type": "stream",
     "text": [
      "<class 'int'>\n",
      "<class 'str'>\n",
      "<class 'int'>\n",
      "<class 'str'>\n"
     ]
    }
   ],
   "source": [
    "for x in get_values(d):\n",
    "    print(type(x))"
   ]
  },
  {
   "cell_type": "code",
   "execution_count": 9,
   "id": "85104b14",
   "metadata": {},
   "outputs": [
    {
     "data": {
      "text/plain": [
       "list"
      ]
     },
     "execution_count": 9,
     "metadata": {},
     "output_type": "execute_result"
    }
   ],
   "source": [
    "type(get_values(d))"
   ]
  },
  {
   "cell_type": "markdown",
   "id": "144253a6",
   "metadata": {},
   "source": [
    "* As l is list, you will be able to use `for` loop to access the elements from l. Here is the desired output."
   ]
  },
  {
   "cell_type": "code",
   "execution_count": 10,
   "id": "9e931dab",
   "metadata": {},
   "outputs": [
    {
     "name": "stdout",
     "output_type": "stream",
     "text": [
      "1\n",
      "2013-07-25\n",
      "100\n",
      "COMPLETE\n"
     ]
    }
   ],
   "source": [
    "for e in l: print(e)"
   ]
  },
  {
   "cell_type": "code",
   "execution_count": 11,
   "id": "d01a62cf",
   "metadata": {},
   "outputs": [
    {
     "name": "stdout",
     "output_type": "stream",
     "text": [
      "type of value 1 is <class 'int'>\n",
      "type of value 2013-07-25 is <class 'str'>\n",
      "type of value 100 is <class 'int'>\n",
      "type of value COMPLETE is <class 'str'>\n"
     ]
    }
   ],
   "source": [
    "for e in l: \n",
    "    print(f'type of value {e} is {type(e)}')"
   ]
  },
  {
   "cell_type": "markdown",
   "id": "05b25435",
   "metadata": {},
   "source": [
    "### Exercise 3 - Data Type Conversion\n",
    "\n",
    "As part of the below dict object, order_date is of type string. You need to convert the data type of **order_date** to date type."
   ]
  },
  {
   "cell_type": "code",
   "execution_count": 29,
   "id": "fe9e168b",
   "metadata": {},
   "outputs": [],
   "source": [
    "d = {\n",
    "    'order_id': 1,\n",
    "    'order_date': '2013-07-25',\n",
    "    'order_customer_id': 100,\n",
    "    'order_status': 'COMPLETE'\n",
    "}"
   ]
  },
  {
   "cell_type": "code",
   "execution_count": 13,
   "id": "1952ad27",
   "metadata": {},
   "outputs": [
    {
     "data": {
      "text/plain": [
       "{'order_id': 1,\n",
       " 'order_date': '2013-07-25',\n",
       " 'order_customer_id': 100,\n",
       " 'order_status': 'COMPLETE'}"
      ]
     },
     "execution_count": 13,
     "metadata": {},
     "output_type": "execute_result"
    }
   ],
   "source": [
    "d"
   ]
  },
  {
   "cell_type": "code",
   "execution_count": 14,
   "id": "2c2c64fd",
   "metadata": {},
   "outputs": [],
   "source": [
    "from datetime import datetime\n",
    "def convert_date_type(d):\n",
    "    for key,value in d.items():\n",
    "        if key == 'order_date':\n",
    "            d[key]=datetime.strptime(value, '%Y-%m-%d')\n",
    "    return d"
   ]
  },
  {
   "cell_type": "code",
   "execution_count": 15,
   "id": "bade1707",
   "metadata": {},
   "outputs": [
    {
     "data": {
      "text/plain": [
       "{'order_id': 1,\n",
       " 'order_date': datetime.datetime(2013, 7, 25, 0, 0),\n",
       " 'order_customer_id': 100,\n",
       " 'order_status': 'COMPLETE'}"
      ]
     },
     "execution_count": 15,
     "metadata": {},
     "output_type": "execute_result"
    }
   ],
   "source": [
    "d_converted = convert_date_type(d)\n",
    "d_converted"
   ]
  },
  {
   "cell_type": "code",
   "execution_count": 16,
   "id": "07f422fe",
   "metadata": {},
   "outputs": [
    {
     "data": {
      "text/plain": [
       "datetime.datetime"
      ]
     },
     "execution_count": 16,
     "metadata": {},
     "output_type": "execute_result"
    }
   ],
   "source": [
    "type(d_converted['order_date']) # Output: datetime.datetime"
   ]
  },
  {
   "cell_type": "markdown",
   "id": "f0f04399",
   "metadata": {},
   "source": [
    "* Run below cell to validate the output. Here is the desired output.\n",
    "\n",
    "```python\n",
    "{'order_id': 1,\n",
    " 'order_date': datetime.datetime(2013, 7, 25, 0, 0),\n",
    " 'order_customer_id': 100,\n",
    " 'order_status': 'COMPLETE'}\n",
    "```"
   ]
  },
  {
   "cell_type": "code",
   "execution_count": 38,
   "id": "3ee5764c",
   "metadata": {},
   "outputs": [],
   "source": [
    "from datetime import datetime\n",
    "def convert_date_type(d):\n",
    "    dt = d['order_date']\n",
    "    dt = datetime.strptime(dt, '%Y-%m-%d')\n",
    "    d.update({'order_date': dt})\n",
    "    return d"
   ]
  },
  {
   "cell_type": "code",
   "execution_count": 39,
   "id": "869f8ee1",
   "metadata": {},
   "outputs": [
    {
     "data": {
      "text/plain": [
       "{'order_id': 1,\n",
       " 'order_date': '2013-07-25',\n",
       " 'order_customer_id': 100,\n",
       " 'order_status': 'COMPLETE'}"
      ]
     },
     "execution_count": 39,
     "metadata": {},
     "output_type": "execute_result"
    }
   ],
   "source": [
    "d"
   ]
  },
  {
   "cell_type": "code",
   "execution_count": 40,
   "id": "1e9aebd6",
   "metadata": {},
   "outputs": [
    {
     "data": {
      "text/plain": [
       "{'order_id': 1,\n",
       " 'order_date': datetime.datetime(2013, 7, 25, 0, 0),\n",
       " 'order_customer_id': 100,\n",
       " 'order_status': 'COMPLETE'}"
      ]
     },
     "execution_count": 40,
     "metadata": {},
     "output_type": "execute_result"
    }
   ],
   "source": [
    "d_converted = convert_date_type(d)\n",
    "d_converted"
   ]
  },
  {
   "cell_type": "code",
   "execution_count": 41,
   "id": "f112757c",
   "metadata": {},
   "outputs": [
    {
     "data": {
      "text/plain": [
       "datetime.datetime"
      ]
     },
     "execution_count": 41,
     "metadata": {},
     "output_type": "execute_result"
    }
   ],
   "source": [
    "type(d_converted['order_date']) # Output: datetime.datetime"
   ]
  },
  {
   "cell_type": "markdown",
   "id": "e1ac2d86",
   "metadata": {},
   "source": [
    "### Exercise 4 - Create list of dicts\n",
    "\n",
    "Create list of dicts for the following data.\n",
    "* Each element in the list should be of type dict.\n",
    "* The dict should contain **order_item_order_id** and **order_item_subtotal** as keys.\n",
    "\n",
    "|order_item_order_id|order_item_subtotal|\n",
    "|---|---|\n",
    "|1|299.98|\n",
    "|2|199.99|\n",
    "|2|250.0|\n",
    "|2|129.99|\n",
    "|4|49.98|\n",
    "|4|299.95|\n",
    "|4|150.0|\n",
    "|4|199.92|"
   ]
  },
  {
   "cell_type": "code",
   "execution_count": 42,
   "id": "f9ca9cc2",
   "metadata": {},
   "outputs": [],
   "source": [
    "d=[{'order_item_order_id':1 ,\n",
    "    'order_item_subtotal':299.98},\n",
    "   {'order_item_order_id':2,\n",
    "    'order_item_subtotal':199.99},\n",
    "   {'order_item_order_id':2,\n",
    "    'order_item_subtotal':250.0},\n",
    "   {'order_item_order_id':2,\n",
    "    'order_item_subtotal':129.99},\n",
    "   {'order_item_order_id':4,\n",
    "    'order_item_subtotal':49.98},\n",
    "   {'order_item_order_id':4,\n",
    "    'order_item_subtotal':299.95},\n",
    "    {'order_item_order_id':4,\n",
    "    'order_item_subtotal':150.0},\n",
    "    {'order_item_order_id':4,\n",
    "   'order_item_subtotal':199.92}]"
   ]
  },
  {
   "cell_type": "code",
   "execution_count": 11,
   "id": "94153e46",
   "metadata": {},
   "outputs": [
    {
     "data": {
      "text/plain": [
       "[{'order_item_order_id': 1, 'order_item_subtotal': 299.98},\n",
       " {'order_item_order_id': 2, 'order_item_subtotal': 199.99},\n",
       " {'order_item_order_id': 2, 'order_item_subtotal': 250.0},\n",
       " {'order_item_order_id': 2, 'order_item_subtotal': 129.99},\n",
       " {'order_item_order_id': 4, 'order_item_subtotal': 49.98},\n",
       " {'order_item_order_id': 4, 'order_item_subtotal': 299.95},\n",
       " {'order_item_order_id': 4, 'order_item_subtotal': 150.0},\n",
       " {'order_item_order_id': 4, 'order_item_subtotal': 199.92}]"
      ]
     },
     "execution_count": 11,
     "metadata": {},
     "output_type": "execute_result"
    }
   ],
   "source": [
    "d"
   ]
  },
  {
   "cell_type": "code",
   "execution_count": 12,
   "id": "1a55dc9a",
   "metadata": {},
   "outputs": [
    {
     "data": {
      "text/plain": [
       "{'order_item_order_id': 1, 'order_item_subtotal': 299.98}"
      ]
     },
     "execution_count": 12,
     "metadata": {},
     "output_type": "execute_result"
    }
   ],
   "source": [
    "d[0]\n",
    " "
   ]
  },
  {
   "cell_type": "code",
   "execution_count": 13,
   "id": "92c9bfee",
   "metadata": {},
   "outputs": [
    {
     "data": {
      "text/plain": [
       "dict"
      ]
     },
     "execution_count": 13,
     "metadata": {},
     "output_type": "execute_result"
    }
   ],
   "source": [
    "type((d)[0])"
   ]
  },
  {
   "cell_type": "code",
   "execution_count": 22,
   "id": "349c5b8d",
   "metadata": {},
   "outputs": [],
   "source": [
    "l = ['1, 299' , '2, 199.99' , '2, 250.0' , '2, 129.99' , '4, 49.98' , '4, 299.95' , '4, 150.0' , '4, 199.92']"
   ]
  },
  {
   "cell_type": "code",
   "execution_count": 23,
   "id": "5be70e07",
   "metadata": {},
   "outputs": [],
   "source": [
    "def list_of_dicts(n):\n",
    "    order = n.split(',')\n",
    "    dict_ele = {'order_item_order_id': int(order[0]), 'order_item_subtotal': float(order[1]), }\n",
    "    return dict_ele"
   ]
  },
  {
   "cell_type": "code",
   "execution_count": 24,
   "id": "c901728e",
   "metadata": {},
   "outputs": [
    {
     "data": {
      "text/plain": [
       "[{'order_item_order_id': 1, 'order_item_subtotal': 299.0},\n",
       " {'order_item_order_id': 2, 'order_item_subtotal': 199.99},\n",
       " {'order_item_order_id': 2, 'order_item_subtotal': 250.0},\n",
       " {'order_item_order_id': 2, 'order_item_subtotal': 129.99},\n",
       " {'order_item_order_id': 4, 'order_item_subtotal': 49.98},\n",
       " {'order_item_order_id': 4, 'order_item_subtotal': 299.95},\n",
       " {'order_item_order_id': 4, 'order_item_subtotal': 150.0},\n",
       " {'order_item_order_id': 4, 'order_item_subtotal': 199.92}]"
      ]
     },
     "execution_count": 24,
     "metadata": {},
     "output_type": "execute_result"
    }
   ],
   "source": [
    "l_o_d = [list_of_dicts(i) for i in l]\n",
    "l_o_d"
   ]
  },
  {
   "cell_type": "markdown",
   "id": "4eb69a76",
   "metadata": {},
   "source": [
    "### Exercise 5: Dict with max value\n",
    "\n",
    "Create a dict with order id and max order item subtotal using the below dict. The below dict contains order id as key and order item subtotals list as corresponding value."
   ]
  },
  {
   "cell_type": "code",
   "execution_count": 26,
   "id": "f1364233",
   "metadata": {},
   "outputs": [],
   "source": [
    "order_item_subtotals = {\n",
    "    1: [299.98],\n",
    "    2: [199.99, 250.0, 129.99],\n",
    "    4: [49.98, 150.0, 199.92],\n",
    "    5: [299.98, 299.95, 99.96, 299.98, 129.99],\n",
    "    7: [199.99, 299.98, 79.95],\n",
    "    8: [179.97, 299.95, 199.92, 50.0]\n",
    "}"
   ]
  },
  {
   "cell_type": "code",
   "execution_count": 21,
   "id": "cedc8113",
   "metadata": {},
   "outputs": [],
   "source": [
    "# Your solution should go here\n",
    "def d_top(m):\n",
    "    for k, v in m.items():\n",
    "        m[k]=sorted(v,reverse=True)[0]\n",
    "    return m"
   ]
  },
  {
   "cell_type": "code",
   "execution_count": 22,
   "id": "5b2399e6",
   "metadata": {},
   "outputs": [
    {
     "data": {
      "text/plain": [
       "{1: 299.98, 2: 250.0, 4: 199.92, 5: 299.98, 7: 299.98, 8: 299.95}"
      ]
     },
     "execution_count": 22,
     "metadata": {},
     "output_type": "execute_result"
    }
   ],
   "source": [
    "d_top(order_item_subtotals)"
   ]
  },
  {
   "cell_type": "code",
   "execution_count": 27,
   "id": "8329146f",
   "metadata": {},
   "outputs": [
    {
     "data": {
      "text/plain": [
       "{1: 299.98, 2: 250.0, 4: 199.92, 5: 299.98, 7: 299.98, 8: 299.95}"
      ]
     },
     "execution_count": 27,
     "metadata": {},
     "output_type": "execute_result"
    }
   ],
   "source": [
    "l= []\n",
    "for i in order_item_subtotals.items():\n",
    "    l.append((i[0], max(i[1])))\n",
    "l= dict(l)\n",
    "l"
   ]
  },
  {
   "cell_type": "code",
   "execution_count": null,
   "id": "ea5c593b",
   "metadata": {},
   "outputs": [],
   "source": []
  },
  {
   "cell_type": "markdown",
   "id": "9ba156ff",
   "metadata": {},
   "source": [
    "* Here is the desired output.\n",
    "\n",
    "```python\n",
    "{1: 299.98, 2: 250.0, 4: 199.92, 5: 299.98, 7: 299.98, 8: 299.95}\n",
    "```"
   ]
  },
  {
   "cell_type": "markdown",
   "id": "03f63f97",
   "metadata": {},
   "source": [
    "### Exercise 6: Dict with order revenue\n",
    "\n",
    "Create a dict with order item id and order item subtotal. The input dict will contain order item id as key and quantity along with price as value. **order item subtotal** is product of quantity and price."
   ]
  },
  {
   "cell_type": "code",
   "execution_count": 28,
   "id": "488e0504",
   "metadata": {},
   "outputs": [],
   "source": [
    "order_items = {1: (1, 299.98),\n",
    " 2: (1, 199.99),\n",
    " 3: (5, 50.0),\n",
    " 4: (1, 129.99),\n",
    " 5: (2, 24.99),\n",
    " 6: (5, 59.99),\n",
    " 7: (3, 50.0),\n",
    " 8: (4, 49.98),\n",
    " 9: (1, 299.98),\n",
    " 10: (5, 59.99)}"
   ]
  },
  {
   "cell_type": "code",
   "execution_count": 28,
   "id": "0f3b5c65",
   "metadata": {},
   "outputs": [],
   "source": [
    "# Your solution should go here\n",
    "def order_item_subtotal(m):\n",
    "    for k, v in m.items():\n",
    "        m[k]=v[0] * v[1]\n",
    "    return m"
   ]
  },
  {
   "cell_type": "code",
   "execution_count": 29,
   "id": "a5d4a124",
   "metadata": {},
   "outputs": [
    {
     "data": {
      "text/plain": [
       "{1: 299.98,\n",
       " 2: 199.99,\n",
       " 3: 250.0,\n",
       " 4: 129.99,\n",
       " 5: 49.98,\n",
       " 6: 299.95,\n",
       " 7: 150.0,\n",
       " 8: 199.92,\n",
       " 9: 299.98,\n",
       " 10: 299.95}"
      ]
     },
     "execution_count": 29,
     "metadata": {},
     "output_type": "execute_result"
    }
   ],
   "source": [
    "order_item_subtotal(order_items)"
   ]
  },
  {
   "cell_type": "markdown",
   "id": "ebf6147c",
   "metadata": {},
   "source": [
    "* Here is the expected output.\n",
    "\n",
    "```python\n",
    "{1: 299.98,\n",
    " 2: 199.99,\n",
    " 3: 250.0,\n",
    " 4: 129.99,\n",
    " 5: 49.98,\n",
    " 6: 299.95,\n",
    " 7: 150.0,\n",
    " 8: 199.92,\n",
    " 9: 299.98,\n",
    " 10: 299.95}\n",
    "```"
   ]
  },
  {
   "cell_type": "code",
   "execution_count": 29,
   "id": "d1b8f2a9",
   "metadata": {},
   "outputs": [
    {
     "data": {
      "text/plain": [
       "{1: 299.98,\n",
       " 2: 199.99,\n",
       " 3: 250.0,\n",
       " 4: 129.99,\n",
       " 5: 49.98,\n",
       " 6: 299.95,\n",
       " 7: 150.0,\n",
       " 8: 199.92,\n",
       " 9: 299.98,\n",
       " 10: 299.95}"
      ]
     },
     "execution_count": 29,
     "metadata": {},
     "output_type": "execute_result"
    }
   ],
   "source": [
    "l = []\n",
    "for i in order_items.items():\n",
    "    l.append((i[0], ((list(i[1]))[0]) * ((list(i[1]))[1])))\n",
    "l = dict(l)\n",
    "l\n"
   ]
  },
  {
   "cell_type": "code",
   "execution_count": null,
   "id": "7a7cfe43",
   "metadata": {},
   "outputs": [],
   "source": []
  }
 ],
 "metadata": {
  "kernelspec": {
   "display_name": "Python 3",
   "language": "python",
   "name": "python3"
  },
  "language_info": {
   "codemirror_mode": {
    "name": "ipython",
    "version": 3
   },
   "file_extension": ".py",
   "mimetype": "text/x-python",
   "name": "python",
   "nbconvert_exporter": "python",
   "pygments_lexer": "ipython3",
   "version": "3.6.12"
  }
 },
 "nbformat": 4,
 "nbformat_minor": 5
}
