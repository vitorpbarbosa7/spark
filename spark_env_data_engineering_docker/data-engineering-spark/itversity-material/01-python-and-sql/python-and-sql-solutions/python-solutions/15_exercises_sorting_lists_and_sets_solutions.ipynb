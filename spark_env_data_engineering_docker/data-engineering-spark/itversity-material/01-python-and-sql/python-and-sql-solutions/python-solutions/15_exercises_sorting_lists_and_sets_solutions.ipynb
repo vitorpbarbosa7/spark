{
 "cells": [
  {
   "cell_type": "markdown",
   "id": "adf03a0c",
   "metadata": {},
   "source": [
    "## Exercises - Sorting lists and sets\n",
    "\n",
    "Let us perform few exercises to sort lists and sets."
   ]
  },
  {
   "cell_type": "markdown",
   "id": "18365d59",
   "metadata": {},
   "source": [
    "### Exercise 1 - Sort Players by name\n",
    "\n",
    "Sort famous players by their name. The list contains comma separated strings with player name followed by the sport they play."
   ]
  },
  {
   "cell_type": "code",
   "execution_count": 1,
   "id": "1b865d2a",
   "metadata": {},
   "outputs": [],
   "source": [
    "famous_players = ['Pete Sampras,Tennis',\n",
    " 'Sachin Tendulkar,Cricket',\n",
    " 'Brian Lara,Cricket',\n",
    " 'Diego Maradona,Soccer',\n",
    " 'Roger Federer,Tennis',\n",
    " 'Ian Thorpe,Swimming',\n",
    " 'Ronaldo,Soccer',\n",
    " 'Usain Bolt,Running',\n",
    " 'P. V. Sindhu,Badminton',\n",
    " 'Shane Warne,Cricket',\n",
    " 'David Beckham,Cricket',\n",
    " 'Michael Phelps,Swimming']"
   ]
  },
  {
   "cell_type": "code",
   "execution_count": 3,
   "id": "3a9d67f8",
   "metadata": {},
   "outputs": [
    {
     "data": {
      "text/plain": [
       "'Pete Sampras,Tennis'"
      ]
     },
     "execution_count": 3,
     "metadata": {},
     "output_type": "execute_result"
    }
   ],
   "source": [
    "famous_players[0]"
   ]
  },
  {
   "cell_type": "code",
   "execution_count": 2,
   "id": "d9b76e3a",
   "metadata": {},
   "outputs": [
    {
     "data": {
      "text/plain": [
       "['Brian Lara,Cricket',\n",
       " 'David Beckham,Cricket',\n",
       " 'Diego Maradona,Soccer',\n",
       " 'Ian Thorpe,Swimming',\n",
       " 'Michael Phelps,Swimming',\n",
       " 'P. V. Sindhu,Badminton',\n",
       " 'Pete Sampras,Tennis',\n",
       " 'Roger Federer,Tennis',\n",
       " 'Ronaldo,Soccer',\n",
       " 'Sachin Tendulkar,Cricket',\n",
       " 'Shane Warne,Cricket',\n",
       " 'Usain Bolt,Running']"
      ]
     },
     "execution_count": 2,
     "metadata": {},
     "output_type": "execute_result"
    }
   ],
   "source": [
    "sorted(famous_players, key=lambda fp: fp.split(',')[0])"
   ]
  },
  {
   "cell_type": "markdown",
   "id": "71f01409",
   "metadata": {},
   "source": [
    "* Here is the desired output.\n",
    "```python\n",
    "['Brian Lara,Cricket',\n",
    " 'David Beckham,Cricket',\n",
    " 'Diego Maradona,Soccer',\n",
    " 'Ian Thorpe,Swimming',\n",
    " 'Michael Phelps,Swimming',\n",
    " 'P. V. Sindhu,Badminton',\n",
    " 'Pete Sampras,Tennis',\n",
    " 'Roger Federer,Tennis',\n",
    " 'Ronaldo,Soccer',\n",
    " 'Sachin Tendulkar,Cricket',\n",
    " 'Shane Warne,Cricket',\n",
    " 'Usain Bolt,Running']\n",
    "```"
   ]
  },
  {
   "cell_type": "markdown",
   "id": "fb813b98",
   "metadata": {},
   "source": [
    "### Exercise 2 - Sort Players by sport\n",
    "\n",
    "Sort famous players by the sport name. The list contains comma separated strings with player name followed by the sport they play."
   ]
  },
  {
   "cell_type": "code",
   "execution_count": 3,
   "id": "fb961ac7",
   "metadata": {},
   "outputs": [],
   "source": [
    "famous_players = ['Pete Sampras,Tennis',\n",
    " 'Sachin Tendulkar,Cricket',\n",
    " 'Brian Lara,Cricket',\n",
    " 'Diego Maradona,Soccer',\n",
    " 'Roger Federer,Tennis',\n",
    " 'Ian Thorpe,Swimming',\n",
    " 'Ronaldo,Soccer',\n",
    " 'Usain Bolt,Running',\n",
    " 'P. V. Sindhu,Badminton',\n",
    " 'Shane Warne,Cricket',\n",
    " 'David Beckham,Cricket',\n",
    " 'Michael Phelps,Swimming']"
   ]
  },
  {
   "cell_type": "code",
   "execution_count": 4,
   "id": "de58af2d",
   "metadata": {},
   "outputs": [
    {
     "data": {
      "text/plain": [
       "['P. V. Sindhu,Badminton',\n",
       " 'Sachin Tendulkar,Cricket',\n",
       " 'Brian Lara,Cricket',\n",
       " 'Shane Warne,Cricket',\n",
       " 'David Beckham,Cricket',\n",
       " 'Usain Bolt,Running',\n",
       " 'Diego Maradona,Soccer',\n",
       " 'Ronaldo,Soccer',\n",
       " 'Ian Thorpe,Swimming',\n",
       " 'Michael Phelps,Swimming',\n",
       " 'Pete Sampras,Tennis',\n",
       " 'Roger Federer,Tennis']"
      ]
     },
     "execution_count": 4,
     "metadata": {},
     "output_type": "execute_result"
    }
   ],
   "source": [
    "sorted(famous_players, key=lambda fp: fp.split(',')[1])"
   ]
  },
  {
   "cell_type": "markdown",
   "id": "8ba91c92",
   "metadata": {},
   "source": [
    "* Here is the desired output.\n",
    "```python\n",
    "['P. V. Sindhu,Badminton',\n",
    " 'Sachin Tendulkar,Cricket',\n",
    " 'Brian Lara,Cricket',\n",
    " 'Shane Warne,Cricket',\n",
    " 'David Beckham,Cricket',\n",
    " 'Usain Bolt,Running',\n",
    " 'Diego Maradona,Soccer',\n",
    " 'Ronaldo,Soccer',\n",
    " 'Ian Thorpe,Swimming',\n",
    " 'Michael Phelps,Swimming',\n",
    " 'Pete Sampras,Tennis',\n",
    " 'Roger Federer,Tennis']\n",
    "```"
   ]
  },
  {
   "cell_type": "markdown",
   "id": "8f0d8a9c",
   "metadata": {},
   "source": [
    "### Exercise 3 - Sort inventory by quantity\n",
    "\n",
    "Sort the set of inventory by quantity. Each element of the set is of type string where we have inventory item and corresponding quantity separated by **:**.\n",
    "* Please note that, quantity is missing for couple of items.\n",
    "* Data should be sorted in ascending order by quantity numerically.\n",
    "* The items with missing quantity should come on top."
   ]
  },
  {
   "cell_type": "code",
   "execution_count": 2,
   "id": "aea8a9ad",
   "metadata": {},
   "outputs": [],
   "source": [
    "inventory = {'almond milk:5',\n",
    " 'cake mix:50',\n",
    " 'cardamom:2',\n",
    " 'cashews:',\n",
    " 'pistachios:3',\n",
    " 'rice:50',\n",
    " 'sugar:10',\n",
    " 'vegetable oil:',\n",
    " 'wheat:300'}"
   ]
  },
  {
   "cell_type": "code",
   "execution_count": 5,
   "id": "d36c588c",
   "metadata": {},
   "outputs": [
    {
     "data": {
      "text/plain": [
       "['cake mix:50',\n",
       " 'vegetable oil:',\n",
       " 'sugar:10',\n",
       " 'pistachios:3',\n",
       " 'cardamom:2',\n",
       " 'cashews:',\n",
       " 'almond milk:5',\n",
       " 'wheat:300',\n",
       " 'rice:50']"
      ]
     },
     "execution_count": 5,
     "metadata": {},
     "output_type": "execute_result"
    }
   ],
   "source": [
    "list(inventory)"
   ]
  },
  {
   "cell_type": "code",
   "execution_count": 3,
   "id": "d46e60d9",
   "metadata": {},
   "outputs": [
    {
     "data": {
      "text/plain": [
       "['cashews:',\n",
       " 'vegetable oil:',\n",
       " 'cardamom:2',\n",
       " 'pistachios:3',\n",
       " 'almond milk:5',\n",
       " 'sugar:10',\n",
       " 'cake mix:50',\n",
       " 'rice:50',\n",
       " 'wheat:300']"
      ]
     },
     "execution_count": 3,
     "metadata": {},
     "output_type": "execute_result"
    }
   ],
   "source": [
    "sorted(inventory,key=lambda invent: int(invent.split(':')[1]) if invent.split(':')[1] else 0)"
   ]
  },
  {
   "cell_type": "markdown",
   "id": "86454c74",
   "metadata": {},
   "source": [
    "* Here is the desired output\n",
    "\n",
    "```python\n",
    "['cashews:',\n",
    " 'vegetable oil:',\n",
    " 'cardamom:2',\n",
    " 'pistachios:3',\n",
    " 'almond milk:5',\n",
    " 'sugar:10',\n",
    " 'cake mix:50',\n",
    " 'rice:50',\n",
    " 'wheat:300']\n",
    "```"
   ]
  },
  {
   "cell_type": "markdown",
   "id": "1264ffb3",
   "metadata": {},
   "source": [
    "### Exercise 4 - Sorting by Number of Enrollments\n",
    "\n",
    "Let us sort the data by number of enrollments in descending order.\n",
    "* We have list of courses. Each course have several attribute values which are comma separated or delimited.\n",
    "* Here is an example for one course. Each course record is of type string.\n",
    "```python\n",
    "'1,2020 Complete Python Bootcamp: From Zero to Hero in Python,Beginner,1100093,4.6,318066'\n",
    "```\n",
    "* We have course id, course title, suitable for or level (3rd attribute), number of enrollments (4th attribute), cumulative rating and then number of ratings for each course.\n",
    "* We need to sort the data based on number of enrollments in descending order."
   ]
  },
  {
   "cell_type": "code",
   "execution_count": 9,
   "id": "3f9350cf",
   "metadata": {},
   "outputs": [],
   "source": [
    "courses = ['1,2020 Complete Python Bootcamp: From Zero to Hero in Python,Beginner,1100093,4.6,318066',\n",
    " '4,Angular - The Complete Guide (2020 Edition),Intermediate,422557,4.6,129984',\n",
    " '12,Automate the Boring Stuff with Python Programming,Advanced,692617,4.6,70508',\n",
    " '10,Complete C# Unity Game Developer 2D,Advanced,364934,4.6,78989',\n",
    " '5,Java Programming Masterclass for Software Developers,Advanced,502572,4.6,123798',\n",
    " '15,Learn Python Programming Masterclass,Advanced,240790,4.5,58677',\n",
    " '3,Machine Learning A-Z™: Hands-On Python & R In Data Science,Intermediate,692812,4.5,132228',\n",
    " '14,Modern React with Redux [2020 Update],Intermediate,203214,4.7,60835',\n",
    " '8,Python for Data Science and Machine Learning Bootcamp,Intermediate,387789,4.6,87403',\n",
    " '18,Selenium WebDriver with Java -Basics to Advanced+Frameworks,Advanced,148562,4.6,49947',\n",
    " '21,Spring & Hibernate for Beginners (includes Spring Boot),Advanced,177053,4.6,45329',\n",
    " '7,The Complete 2020 Web Development Bootcamp,Beginner,270656,4.7,88098',\n",
    " '9,The Complete JavaScript Course 2020: Build Real Projects!,Intermediate,347979,4.6,83521',\n",
    " '16,The Complete Node.js Developer Course (3rd Edition),Advanced,202922,4.7,50885',\n",
    " '13,The Complete Web Developer Course 2.0,Intermediate,273598,4.5,63175',\n",
    " '11,The Data Science Course 2020: Complete Data Science Bootcamp,Beginner,325047,4.5,76907',\n",
    " '20,The Ultimate MySQL Bootcamp: Go from SQL Beginner to Expert,Beginner,203366,4.6,45382',\n",
    " '2,The Web Developer Bootcamp,Beginner,596726,4.6,182997',\n",
    " '19,Unreal Engine C++ Developer: Learn C++ and Make Video Games,Advanced,229005,4.5,45860',\n",
    " '17,iOS 13 & Swift 5 - The Complete iOS App Development Bootcamp,Advanced,179598,4.8,49972']"
   ]
  },
  {
   "cell_type": "code",
   "execution_count": 10,
   "id": "ed3c09c2",
   "metadata": {},
   "outputs": [
    {
     "data": {
      "text/plain": [
       "'1,2020 Complete Python Bootcamp: From Zero to Hero in Python,Beginner,1100093,4.6,318066'"
      ]
     },
     "execution_count": 10,
     "metadata": {},
     "output_type": "execute_result"
    }
   ],
   "source": [
    "courses[0]"
   ]
  },
  {
   "cell_type": "code",
   "execution_count": 47,
   "id": "4eb8ee89",
   "metadata": {},
   "outputs": [],
   "source": [
    "c=courses[0]"
   ]
  },
  {
   "cell_type": "code",
   "execution_count": 48,
   "id": "d0f99c98",
   "metadata": {},
   "outputs": [
    {
     "data": {
      "text/plain": [
       "['1',\n",
       " '2020 Complete Python Bootcamp: From Zero to Hero in Python',\n",
       " 'Beginner',\n",
       " '1100093',\n",
       " '4.6',\n",
       " '318066']"
      ]
     },
     "execution_count": 48,
     "metadata": {},
     "output_type": "execute_result"
    }
   ],
   "source": [
    "c.split(',')"
   ]
  },
  {
   "cell_type": "code",
   "execution_count": 11,
   "id": "b8b57a54",
   "metadata": {},
   "outputs": [
    {
     "data": {
      "text/plain": [
       "['1,2020 Complete Python Bootcamp: From Zero to Hero in Python,Beginner,1100093,4.6,318066',\n",
       " '3,Machine Learning A-Z™: Hands-On Python & R In Data Science,Intermediate,692812,4.5,132228',\n",
       " '12,Automate the Boring Stuff with Python Programming,Advanced,692617,4.6,70508',\n",
       " '2,The Web Developer Bootcamp,Beginner,596726,4.6,182997',\n",
       " '5,Java Programming Masterclass for Software Developers,Advanced,502572,4.6,123798',\n",
       " '4,Angular - The Complete Guide (2020 Edition),Intermediate,422557,4.6,129984',\n",
       " '8,Python for Data Science and Machine Learning Bootcamp,Intermediate,387789,4.6,87403',\n",
       " '10,Complete C# Unity Game Developer 2D,Advanced,364934,4.6,78989',\n",
       " '9,The Complete JavaScript Course 2020: Build Real Projects!,Intermediate,347979,4.6,83521',\n",
       " '11,The Data Science Course 2020: Complete Data Science Bootcamp,Beginner,325047,4.5,76907',\n",
       " '13,The Complete Web Developer Course 2.0,Intermediate,273598,4.5,63175',\n",
       " '7,The Complete 2020 Web Development Bootcamp,Beginner,270656,4.7,88098',\n",
       " '15,Learn Python Programming Masterclass,Advanced,240790,4.5,58677',\n",
       " '19,Unreal Engine C++ Developer: Learn C++ and Make Video Games,Advanced,229005,4.5,45860',\n",
       " '20,The Ultimate MySQL Bootcamp: Go from SQL Beginner to Expert,Beginner,203366,4.6,45382',\n",
       " '14,Modern React with Redux [2020 Update],Intermediate,203214,4.7,60835',\n",
       " '16,The Complete Node.js Developer Course (3rd Edition),Advanced,202922,4.7,50885',\n",
       " '17,iOS 13 & Swift 5 - The Complete iOS App Development Bootcamp,Advanced,179598,4.8,49972',\n",
       " '21,Spring & Hibernate for Beginners (includes Spring Boot),Advanced,177053,4.6,45329',\n",
       " '18,Selenium WebDriver with Java -Basics to Advanced+Frameworks,Advanced,148562,4.6,49947']"
      ]
     },
     "execution_count": 11,
     "metadata": {},
     "output_type": "execute_result"
    }
   ],
   "source": [
    "sorted(courses, key=lambda c:int(c.split(',')[-3]), reverse =True)"
   ]
  },
  {
   "cell_type": "markdown",
   "id": "70bc6bcf",
   "metadata": {},
   "source": [
    "* Here is the desired output.\n",
    "\n",
    "```python\n",
    "['1,2020 Complete Python Bootcamp: From Zero to Hero in Python,Beginner,1100093,4.6,318066',\n",
    " '3,Machine Learning A-Z™: Hands-On Python & R In Data Science,Intermediate,692812,4.5,132228',\n",
    " '12,Automate the Boring Stuff with Python Programming,Advanced,692617,4.6,70508',\n",
    " '2,The Web Developer Bootcamp,Beginner,596726,4.6,182997',\n",
    " '5,Java Programming Masterclass for Software Developers,Advanced,502572,4.6,123798',\n",
    " '4,Angular - The Complete Guide (2020 Edition),Intermediate,422557,4.6,129984',\n",
    " '8,Python for Data Science and Machine Learning Bootcamp,Intermediate,387789,4.6,87403',\n",
    " '10,Complete C# Unity Game Developer 2D,Advanced,364934,4.6,78989',\n",
    " '9,The Complete JavaScript Course 2020: Build Real Projects!,Intermediate,347979,4.6,83521',\n",
    " '11,The Data Science Course 2020: Complete Data Science Bootcamp,Beginner,325047,4.5,76907',\n",
    " '13,The Complete Web Developer Course 2.0,Intermediate,273598,4.5,63175',\n",
    " '7,The Complete 2020 Web Development Bootcamp,Beginner,270656,4.7,88098',\n",
    " '15,Learn Python Programming Masterclass,Advanced,240790,4.5,58677',\n",
    " '19,Unreal Engine C++ Developer: Learn C++ and Make Video Games,Advanced,229005,4.5,45860',\n",
    " '20,The Ultimate MySQL Bootcamp: Go from SQL Beginner to Expert,Beginner,203366,4.6,45382',\n",
    " '14,Modern React with Redux [2020 Update],Intermediate,203214,4.7,60835',\n",
    " '16,The Complete Node.js Developer Course (3rd Edition),Advanced,202922,4.7,50885',\n",
    " '17,iOS 13 & Swift 5 - The Complete iOS App Development Bootcamp,Advanced,179598,4.8,49972',\n",
    " '21,Spring & Hibernate for Beginners (includes Spring Boot),Advanced,177053,4.6,45329',\n",
    " '18,Selenium WebDriver with Java -Basics to Advanced+Frameworks,Advanced,148562,4.6,49947']\n",
    "```"
   ]
  },
  {
   "cell_type": "markdown",
   "id": "781f4e8c",
   "metadata": {},
   "source": [
    "### Exercise 5 - Sorting by Level and Enrollments\n",
    "\n",
    "Let us sort the data by level and then by enrollments in descending order.\n",
    "* We have list of courses. Each course have several attribute values which are comma separated or delimited.\n",
    "* Here is an example for one course. Each course record is of type string.\n",
    "```python\n",
    "'1,2020 Complete Python Bootcamp: From Zero to Hero in Python,Beginner,1100093,4.6,318066'\n",
    "```\n",
    "* We have course id, course title, suitable for or level (3rd attribute), number of enrollments (4th attribute), cumulative rating and then number of ratings for each course.\n",
    "* We need to sort the data based on level in ascending order and then by number of enrollments in descending order."
   ]
  },
  {
   "cell_type": "code",
   "execution_count": 12,
   "id": "9605a4b2",
   "metadata": {},
   "outputs": [],
   "source": [
    "courses = ['1,2020 Complete Python Bootcamp: From Zero to Hero in Python,Beginner,1100093,4.6,318066',\n",
    " '4,Angular - The Complete Guide (2020 Edition),Intermediate,422557,4.6,129984',\n",
    " '12,Automate the Boring Stuff with Python Programming,Advanced,692617,4.6,70508',\n",
    " '10,Complete C# Unity Game Developer 2D,Advanced,364934,4.6,78989',\n",
    " '5,Java Programming Masterclass for Software Developers,Advanced,502572,4.6,123798',\n",
    " '15,Learn Python Programming Masterclass,Advanced,240790,4.5,58677',\n",
    " '3,Machine Learning A-Z™: Hands-On Python & R In Data Science,Intermediate,692812,4.5,132228',\n",
    " '14,Modern React with Redux [2020 Update],Intermediate,203214,4.7,60835',\n",
    " '8,Python for Data Science and Machine Learning Bootcamp,Intermediate,387789,4.6,87403',\n",
    " '18,Selenium WebDriver with Java -Basics to Advanced+Frameworks,Advanced,148562,4.6,49947',\n",
    " '21,Spring & Hibernate for Beginners (includes Spring Boot),Advanced,177053,4.6,45329',\n",
    " '7,The Complete 2020 Web Development Bootcamp,Beginner,270656,4.7,88098',\n",
    " '9,The Complete JavaScript Course 2020: Build Real Projects!,Intermediate,347979,4.6,83521',\n",
    " '16,The Complete Node.js Developer Course (3rd Edition),Advanced,202922,4.7,50885',\n",
    " '13,The Complete Web Developer Course 2.0,Intermediate,273598,4.5,63175',\n",
    " '11,The Data Science Course 2020: Complete Data Science Bootcamp,Beginner,325047,4.5,76907',\n",
    " '20,The Ultimate MySQL Bootcamp: Go from SQL Beginner to Expert,Beginner,203366,4.6,45382',\n",
    " '2,The Web Developer Bootcamp,Beginner,596726,4.6,182997',\n",
    " '19,Unreal Engine C++ Developer: Learn C++ and Make Video Games,Advanced,229005,4.5,45860',\n",
    " '17,iOS 13 & Swift 5 - The Complete iOS App Development Bootcamp,Advanced,179598,4.8,49972']"
   ]
  },
  {
   "cell_type": "code",
   "execution_count": 13,
   "id": "a4159e50",
   "metadata": {},
   "outputs": [
    {
     "data": {
      "text/plain": [
       "['12,Automate the Boring Stuff with Python Programming,Advanced,692617,4.6,70508',\n",
       " '5,Java Programming Masterclass for Software Developers,Advanced,502572,4.6,123798',\n",
       " '10,Complete C# Unity Game Developer 2D,Advanced,364934,4.6,78989',\n",
       " '15,Learn Python Programming Masterclass,Advanced,240790,4.5,58677',\n",
       " '19,Unreal Engine C++ Developer: Learn C++ and Make Video Games,Advanced,229005,4.5,45860',\n",
       " '16,The Complete Node.js Developer Course (3rd Edition),Advanced,202922,4.7,50885',\n",
       " '17,iOS 13 & Swift 5 - The Complete iOS App Development Bootcamp,Advanced,179598,4.8,49972',\n",
       " '21,Spring & Hibernate for Beginners (includes Spring Boot),Advanced,177053,4.6,45329',\n",
       " '18,Selenium WebDriver with Java -Basics to Advanced+Frameworks,Advanced,148562,4.6,49947',\n",
       " '1,2020 Complete Python Bootcamp: From Zero to Hero in Python,Beginner,1100093,4.6,318066',\n",
       " '2,The Web Developer Bootcamp,Beginner,596726,4.6,182997',\n",
       " '11,The Data Science Course 2020: Complete Data Science Bootcamp,Beginner,325047,4.5,76907',\n",
       " '7,The Complete 2020 Web Development Bootcamp,Beginner,270656,4.7,88098',\n",
       " '20,The Ultimate MySQL Bootcamp: Go from SQL Beginner to Expert,Beginner,203366,4.6,45382',\n",
       " '3,Machine Learning A-Z™: Hands-On Python & R In Data Science,Intermediate,692812,4.5,132228',\n",
       " '4,Angular - The Complete Guide (2020 Edition),Intermediate,422557,4.6,129984',\n",
       " '8,Python for Data Science and Machine Learning Bootcamp,Intermediate,387789,4.6,87403',\n",
       " '9,The Complete JavaScript Course 2020: Build Real Projects!,Intermediate,347979,4.6,83521',\n",
       " '13,The Complete Web Developer Course 2.0,Intermediate,273598,4.5,63175',\n",
       " '14,Modern React with Redux [2020 Update],Intermediate,203214,4.7,60835']"
      ]
     },
     "execution_count": 13,
     "metadata": {},
     "output_type": "execute_result"
    }
   ],
   "source": [
    "sorted(courses, key=lambda c:((c.split(',')[2]), -1*(int(c.split(',')[-3]))))"
   ]
  },
  {
   "cell_type": "markdown",
   "id": "05a16b01",
   "metadata": {},
   "source": [
    "* Here is the desired output.\n",
    "\n",
    "```python\n",
    "['12,Automate the Boring Stuff with Python Programming,Advanced,692617,4.6,70508',\n",
    " '5,Java Programming Masterclass for Software Developers,Advanced,502572,4.6,123798',\n",
    " '10,Complete C# Unity Game Developer 2D,Advanced,364934,4.6,78989',\n",
    " '15,Learn Python Programming Masterclass,Advanced,240790,4.5,58677',\n",
    " '19,Unreal Engine C++ Developer: Learn C++ and Make Video Games,Advanced,229005,4.5,45860',\n",
    " '16,The Complete Node.js Developer Course (3rd Edition),Advanced,202922,4.7,50885',\n",
    " '17,iOS 13 & Swift 5 - The Complete iOS App Development Bootcamp,Advanced,179598,4.8,49972',\n",
    " '21,Spring & Hibernate for Beginners (includes Spring Boot),Advanced,177053,4.6,45329',\n",
    " '18,Selenium WebDriver with Java -Basics to Advanced+Frameworks,Advanced,148562,4.6,49947',\n",
    " '1,2020 Complete Python Bootcamp: From Zero to Hero in Python,Beginner,1100093,4.6,318066',\n",
    " '2,The Web Developer Bootcamp,Beginner,596726,4.6,182997',\n",
    " '11,The Data Science Course 2020: Complete Data Science Bootcamp,Beginner,325047,4.5,76907',\n",
    " '7,The Complete 2020 Web Development Bootcamp,Beginner,270656,4.7,88098',\n",
    " '20,The Ultimate MySQL Bootcamp: Go from SQL Beginner to Expert,Beginner,203366,4.6,45382',\n",
    " '3,Machine Learning A-Z™: Hands-On Python & R In Data Science,Intermediate,692812,4.5,132228',\n",
    " '4,Angular - The Complete Guide (2020 Edition),Intermediate,422557,4.6,129984',\n",
    " '8,Python for Data Science and Machine Learning Bootcamp,Intermediate,387789,4.6,87403',\n",
    " '9,The Complete JavaScript Course 2020: Build Real Projects!,Intermediate,347979,4.6,83521',\n",
    " '13,The Complete Web Developer Course 2.0,Intermediate,273598,4.5,63175',\n",
    " '14,Modern React with Redux [2020 Update],Intermediate,203214,4.7,60835']\n",
    "```"
   ]
  }
 ],
 "metadata": {
  "kernelspec": {
   "display_name": "Python 3",
   "language": "python",
   "name": "python3"
  },
  "language_info": {
   "codemirror_mode": {
    "name": "ipython",
    "version": 3
   },
   "file_extension": ".py",
   "mimetype": "text/x-python",
   "name": "python",
   "nbconvert_exporter": "python",
   "pygments_lexer": "ipython3",
   "version": "3.6.12"
  }
 },
 "nbformat": 4,
 "nbformat_minor": 5
}
