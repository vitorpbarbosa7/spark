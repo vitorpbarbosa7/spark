{
 "cells": [
  {
   "cell_type": "markdown",
   "metadata": {},
   "source": [
    "## Exercise - User Defined Functions\n",
    "\n",
    "Let us take care of exercises to check whether we understand how to define the functions."
   ]
  },
  {
   "cell_type": "markdown",
   "metadata": {},
   "source": [
    "### Simple Calculator\n",
    "Let us develop a function called as **calc**.\n",
    "* It should take 3 arguments\n",
    "* First argument - a of type int\n",
    "* Second argument - b of type int\n",
    "* Third argument - op of type int\n",
    "* If op is 1, the function should return sum of a and b\n",
    "* If op is 2, the function should subtract b from a and return the result\n",
    "* If op is 3, the function should multiply a with b and return the result\n",
    "* If op is 4, the function should divide a by b and return the result\n",
    "* If op is any other number, the function should print saying that **invalid op** and return nothing"
   ]
  },
  {
   "cell_type": "code",
   "execution_count": 6,
   "metadata": {},
   "outputs": [
    {
     "name": "stdout",
     "output_type": "stream",
     "text": [
      "Hello World\n"
     ]
    }
   ],
   "source": [
    "print('Hello World')"
   ]
  },
  {
   "cell_type": "code",
   "execution_count": 6,
   "metadata": {},
   "outputs": [],
   "source": [
    "# Your code should go here\n",
    "def calc(a,b,op):\n",
    "    res = None\n",
    "    if (op==1):\n",
    "        result = a+b\n",
    "    elif (op==2):\n",
    "        result = a-b\n",
    "    elif (op==3):\n",
    "        result = a*b\n",
    "    elif (op==4):\n",
    "        result = a/b\n",
    "    else:\n",
    "        print(\"invalid op\")\n",
    "    return result"
   ]
  },
  {
   "cell_type": "markdown",
   "metadata": {},
   "source": [
    "### Validation\n",
    "Please run this code to validate the function `calc`."
   ]
  },
  {
   "cell_type": "code",
   "execution_count": 7,
   "metadata": {},
   "outputs": [
    {
     "name": "stdin",
     "output_type": "stream",
     "text": [
      "Enter first value of type integer:  15\n"
     ]
    }
   ],
   "source": [
    "a = int(input(\"Enter first value of type integer: \"))"
   ]
  },
  {
   "cell_type": "code",
   "execution_count": 8,
   "metadata": {},
   "outputs": [
    {
     "name": "stdin",
     "output_type": "stream",
     "text": [
      "Enter second value of type integer:  25\n"
     ]
    }
   ],
   "source": [
    "b = int(input(\"Enter second value of type integer: \"))"
   ]
  },
  {
   "cell_type": "code",
   "execution_count": 9,
   "metadata": {},
   "outputs": [
    {
     "name": "stdin",
     "output_type": "stream",
     "text": [
      "Enter 1 for add, 2 for sub, 3 for mul and 4 for div:  1\n"
     ]
    }
   ],
   "source": [
    "op = int(input(\"Enter 1 for add, 2 for sub, 3 for mul and 4 for div: \"))"
   ]
  },
  {
   "cell_type": "code",
   "execution_count": 10,
   "metadata": {},
   "outputs": [
    {
     "data": {
      "text/plain": [
       "40"
      ]
     },
     "execution_count": 10,
     "metadata": {},
     "output_type": "execute_result"
    }
   ],
   "source": [
    "result = calc(a, b, op)\n",
    "result"
   ]
  },
  {
   "cell_type": "markdown",
   "metadata": {},
   "source": [
    "\n",
    "\n",
    "Develop functions to get sum of integers within a range of 1 to n.\n",
    "* Function Name: **sum_n**\n",
    "* Argument: **n**\n",
    "* Perform below validations. If not, raise an exception.\n",
    "  * Check if **n** is integer or not.\n",
    "  * Check if **n** is positive integer or not.\n",
    "* Exception should say **{n} is not a valid integer**.\n",
    "* You should display the value passed in place of **{n}** as part of the exception.\n",
    "* The function should return the sum of integers from 1 to n. The logic should be implemented using formula."
   ]
  },
  {
   "cell_type": "code",
   "execution_count": 8,
   "metadata": {},
   "outputs": [],
   "source": [
    "def sum_n(n):\n",
    "    try:\n",
    "        if type(n) != int or n<=0 :\n",
    "             raise TypeError\n",
    "        else:   \n",
    "            total = int(n * (n+1) / 2) \n",
    "            return total\n",
    "    except TypeError  :\n",
    "        print(f'{n} is not a valid integer')\n"
   ]
  },
  {
   "cell_type": "code",
   "execution_count": 9,
   "metadata": {},
   "outputs": [],
   "source": [
    "n = 4"
   ]
  },
  {
   "cell_type": "code",
   "execution_count": 10,
   "metadata": {},
   "outputs": [],
   "source": [
    "res = sum_n(n) # the output should be 10"
   ]
  },
  {
   "cell_type": "code",
   "execution_count": 11,
   "metadata": {},
   "outputs": [
    {
     "data": {
      "text/plain": [
       "10"
      ]
     },
     "execution_count": 11,
     "metadata": {},
     "output_type": "execute_result"
    }
   ],
   "source": [
    "res"
   ]
  },
  {
   "cell_type": "code",
   "execution_count": 12,
   "metadata": {},
   "outputs": [],
   "source": [
    "m = 10"
   ]
  },
  {
   "cell_type": "code",
   "execution_count": 13,
   "metadata": {},
   "outputs": [],
   "source": [
    "res = sum_n(m) # the output should be 55"
   ]
  },
  {
   "cell_type": "code",
   "execution_count": 14,
   "metadata": {},
   "outputs": [
    {
     "data": {
      "text/plain": [
       "55"
      ]
     },
     "execution_count": 14,
     "metadata": {},
     "output_type": "execute_result"
    }
   ],
   "source": [
    "res"
   ]
  },
  {
   "cell_type": "code",
   "execution_count": 15,
   "metadata": {},
   "outputs": [
    {
     "name": "stdout",
     "output_type": "stream",
     "text": [
      "-2 is not a valid integer\n"
     ]
    }
   ],
   "source": [
    "n = -2\n",
    "res = sum_n(n)"
   ]
  },
  {
   "cell_type": "code",
   "execution_count": 16,
   "metadata": {},
   "outputs": [
    {
     "name": "stdout",
     "output_type": "stream",
     "text": [
      "0 is not a valid integer\n"
     ]
    }
   ],
   "source": [
    "m = 0\n",
    "res = sum_n(m)\n"
   ]
  },
  {
   "cell_type": "code",
   "execution_count": 17,
   "metadata": {},
   "outputs": [
    {
     "name": "stdout",
     "output_type": "stream",
     "text": [
      "3 is not a valid integer\n"
     ]
    }
   ],
   "source": [
    "m = '3'\n",
    "res = sum_n(m)\n",
    "res"
   ]
  },
  {
   "cell_type": "markdown",
   "metadata": {},
   "source": [
    "### Sum of Integers within a range\n",
    "\n",
    "Develop functions to get sum of integers within a range of lower bound and upper bound.\n",
    "* Function Name: **sum_of_integers**\n",
    "* Argument Names: **lb** and **ub**\n",
    "* Check if **lb** and **ub** are integers or not. If not, raise an exception. Exception should be **Either {lb} or {ub} are not integers**. \n",
    "* Check if **lb** is less than **ub** or not. If not, raise an exception. Exception should say **{lb} is not lower than {ub}**.\n",
    "* You should display the values passed to the function in place of **{lb}** and **{ub}** as part of the exception.\n",
    "* The function should return the sum of integers from lb and ub. The function should use **sum_n** to get sum of integers between 1 and upper bound as well as 1 and lower bound."
   ]
  },
  {
   "cell_type": "code",
   "execution_count": 2,
   "metadata": {},
   "outputs": [],
   "source": [
    "def sum_of_integers(lb,ub):\n",
    "    try: \n",
    "        if type(lb) != int or type(ub) != int:\n",
    "            raise TypeError\n",
    "        elif lb >= ub:\n",
    "            raise TypeError\n",
    "        else:\n",
    "            result = sum_n(ub) - sum_n(lb)\n",
    "            result = result + lb\n",
    "            return result \n",
    "    except TypeError :\n",
    "        print(f'Either {lb} or {ub} are not integers')\n",
    "        print('or')\n",
    "        print(f'{lb} is not lower than {ub}')"
   ]
  },
  {
   "cell_type": "code",
   "execution_count": 44,
   "metadata": {},
   "outputs": [],
   "source": [
    "def sum_of_integers(lb,ub):\n",
    "    try: \n",
    "        if type(lb) != int or type(ub) != int:\n",
    "            raise TypeError\n",
    "        elif lb >= ub:\n",
    "            raise TypeError\n",
    "        else:\n",
    "            result = sum_n(ub) - sum_n(lb)\n",
    "            result = result + lb\n",
    "            return result\n",
    "    except TypeError :    \n",
    "        print(f'{lb} is not lower than {ub}')\n",
    "    except TypeError :\n",
    "        print(f'Either {lb} or {ub} are not integers')\n",
    "    except Exception :    \n",
    "        print(f'{lb} is not lower than {ub}')"
   ]
  },
  {
   "cell_type": "code",
   "execution_count": 45,
   "metadata": {},
   "outputs": [
    {
     "name": "stdout",
     "output_type": "stream",
     "text": [
      "200 is not lower than 2\n"
     ]
    }
   ],
   "source": [
    "sum_of_integers(200,2)"
   ]
  },
  {
   "cell_type": "code",
   "execution_count": 46,
   "metadata": {},
   "outputs": [
    {
     "name": "stdout",
     "output_type": "stream",
     "text": [
      "200 is not lower than 2\n"
     ]
    }
   ],
   "source": [
    "sum_of_integers('200',2)"
   ]
  },
  {
   "cell_type": "code",
   "execution_count": 24,
   "metadata": {},
   "outputs": [
    {
     "data": {
      "text/plain": [
       "55"
      ]
     },
     "execution_count": 24,
     "metadata": {},
     "output_type": "execute_result"
    }
   ],
   "source": [
    "sum_of_integers(1,10)"
   ]
  },
  {
   "cell_type": "code",
   "execution_count": null,
   "metadata": {},
   "outputs": [],
   "source": []
  },
  {
   "cell_type": "code",
   "execution_count": 25,
   "metadata": {},
   "outputs": [],
   "source": [
    "n = 4"
   ]
  },
  {
   "cell_type": "code",
   "execution_count": 26,
   "metadata": {},
   "outputs": [],
   "source": [
    "res = sum_n(n) # the output should be 10"
   ]
  },
  {
   "cell_type": "code",
   "execution_count": 27,
   "metadata": {},
   "outputs": [
    {
     "data": {
      "text/plain": [
       "10"
      ]
     },
     "execution_count": 27,
     "metadata": {},
     "output_type": "execute_result"
    }
   ],
   "source": [
    "res"
   ]
  },
  {
   "cell_type": "code",
   "execution_count": 28,
   "metadata": {},
   "outputs": [],
   "source": [
    "m = 10"
   ]
  },
  {
   "cell_type": "code",
   "execution_count": 29,
   "metadata": {},
   "outputs": [],
   "source": [
    "res = sum_n(m) # the output should be 55"
   ]
  },
  {
   "cell_type": "code",
   "execution_count": 30,
   "metadata": {},
   "outputs": [
    {
     "data": {
      "text/plain": [
       "55"
      ]
     },
     "execution_count": 30,
     "metadata": {},
     "output_type": "execute_result"
    }
   ],
   "source": [
    "res"
   ]
  },
  {
   "cell_type": "code",
   "execution_count": 20,
   "metadata": {},
   "outputs": [
    {
     "name": "stdout",
     "output_type": "stream",
     "text": [
      "Either 500 or 10 are not integers\n",
      "or\n",
      "500 is not lower than 10\n"
     ]
    }
   ],
   "source": [
    "res=sum_of_integers(500,10)\n",
    "res"
   ]
  },
  {
   "cell_type": "code",
   "execution_count": 23,
   "metadata": {},
   "outputs": [
    {
     "name": "stdout",
     "output_type": "stream",
     "text": [
      "Either 300 or 20 are not integers\n"
     ]
    },
    {
     "data": {
      "text/plain": [
       "300"
      ]
     },
     "execution_count": 23,
     "metadata": {},
     "output_type": "execute_result"
    }
   ],
   "source": [
    "sum_of_integers(300,'20')"
   ]
  }
 ],
 "metadata": {
  "kernelspec": {
   "display_name": "python37",
   "language": "python",
   "name": "python37"
  },
  "language_info": {
   "codemirror_mode": {
    "name": "ipython",
    "version": 3
   },
   "file_extension": ".py",
   "mimetype": "text/x-python",
   "name": "python",
   "nbconvert_exporter": "python",
   "pygments_lexer": "ipython3",
   "version": "3.7.10"
  }
 },
 "nbformat": 4,
 "nbformat_minor": 4
}
