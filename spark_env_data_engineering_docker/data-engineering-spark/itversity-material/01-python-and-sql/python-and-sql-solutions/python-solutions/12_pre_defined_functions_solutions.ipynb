{
 "cells": [
  {
   "cell_type": "markdown",
   "id": "961a4f97",
   "metadata": {},
   "source": [
    "### Check if the string is palindrome\n",
    "* Use these string literals and confirm if they are palindromes or not. You can get the definition of palindrome by googling it. You should ignore the case while checking if the string is a palindrome.\n",
    "    * String 1: ITVersity\n",
    "    * String 2: level\n",
    "    * String 3: RaceCar"
   ]
  },
  {
   "cell_type": "code",
   "execution_count": 1,
   "id": "227eab52",
   "metadata": {},
   "outputs": [
    {
     "name": "stdout",
     "output_type": "stream",
     "text": [
      "False\n",
      "True\n",
      "True\n"
     ]
    }
   ],
   "source": [
    "def check(s):\n",
    "    if s.lower() == s[::-1].lower():\n",
    "        return True\n",
    "    return False\n",
    "\n",
    "string_1= \"ITVersity\"\n",
    "string_2 = \"level\"\n",
    "string_3 = \"RaceCar\"\n",
    "\n",
    "print(check(string_1))\n",
    "print(check(string_2))\n",
    "print(check(string_3))"
   ]
  },
  {
   "cell_type": "markdown",
   "id": "00818c5b",
   "metadata": {},
   "source": [
    "## Getting Day for a given Date\n",
    "* Use existing Python libraries and get the day for the given date.\n",
    "    * Create a variable by name some_date using format yyyy-MM-dd (2020-10-18).\n",
    "* Get the day in 3 character format Sun. Assign it to a variable day.\n",
    "* Print the value of day and it should be Sun."
   ]
  },
  {
   "cell_type": "code",
   "execution_count": 2,
   "id": "ea3a570c",
   "metadata": {},
   "outputs": [
    {
     "name": "stdout",
     "output_type": "stream",
     "text": [
      "Sun\n"
     ]
    }
   ],
   "source": [
    "import datetime\n",
    "some_date = \"2020-10-18\"\n",
    "\n",
    "today_d = datetime.datetime.strptime(some_date,'%Y-%m-%d').date()\n",
    "day = today_d.strftime(\"%a\")\n",
    "#print(today_d)\n",
    "print(day)"
   ]
  },
  {
   "cell_type": "markdown",
   "id": "4975c7a0",
   "metadata": {},
   "source": [
    "## Get the Student Name\n",
    "* Create a string variable by name student with this value student_id=1;student_name=Some X;join_date=2020-10-02.\n",
    "* Get student_name from student and assign it to a variable student_name.\n",
    "* Print the value of student_name and it should be Some X"
   ]
  },
  {
   "cell_type": "code",
   "execution_count": 3,
   "id": "4ab630d4",
   "metadata": {},
   "outputs": [
    {
     "name": "stdout",
     "output_type": "stream",
     "text": [
      "Some X\n"
     ]
    }
   ],
   "source": [
    "student=\"student_id=1;student_name=Some X;join_date=2020-10-02\"\n",
    "student_name = student.split(\";\")[1].split(\"=\")[1]\n",
    "print(student_name)"
   ]
  },
  {
   "cell_type": "markdown",
   "id": "8e8a3aec",
   "metadata": {},
   "source": [
    "## Get the Student Joining Date\n",
    "* Create a string variable by name student with this value student_id=1;student_name=Some X;join_date=2020-10-02.\n",
    "* Get join date and assign it to variable called as join_date. It should only contain 2020-10-02\n",
    "* Convert the string to date type. The date is in the format of yyyy-MM-dd.\n",
    "    * yyyy - 4 digit year\n",
    "    * MM - 2 digit month\n",
    "    * dd - 2 digit day.\n",
    "    * Format and print the date using %Y-%b-%d. The output should be 2020-Oct-02"
   ]
  },
  {
   "cell_type": "code",
   "execution_count": 4,
   "id": "a48d921c",
   "metadata": {},
   "outputs": [
    {
     "data": {
      "text/plain": [
       "'2020-Oct-02'"
      ]
     },
     "execution_count": 4,
     "metadata": {},
     "output_type": "execute_result"
    }
   ],
   "source": [
    "import datetime\n",
    "student = \"student_id=1;student_name=Some X;join_date=2020-10-02\"\n",
    "join_date = student.split(\";\")[-1].split(\"=\")[-1]\n",
    "#print(join_date)\n",
    "date = datetime.datetime.strptime(join_date, '%Y-%m-%d').date()\n",
    "date.strftime(\"%Y-%b-%d\")"
   ]
  },
  {
   "cell_type": "code",
   "execution_count": null,
   "id": "c0eb546e",
   "metadata": {},
   "outputs": [],
   "source": []
  }
 ],
 "metadata": {
  "kernelspec": {
   "display_name": "Python 3",
   "language": "python",
   "name": "python3"
  },
  "language_info": {
   "codemirror_mode": {
    "name": "ipython",
    "version": 3
   },
   "file_extension": ".py",
   "mimetype": "text/x-python",
   "name": "python",
   "nbconvert_exporter": "python",
   "pygments_lexer": "ipython3",
   "version": "3.6.12"
  }
 },
 "nbformat": 4,
 "nbformat_minor": 5
}
