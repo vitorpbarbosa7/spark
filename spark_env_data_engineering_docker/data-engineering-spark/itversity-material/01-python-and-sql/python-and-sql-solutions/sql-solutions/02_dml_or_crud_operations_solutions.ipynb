{
 "cells": [
  {
   "cell_type": "markdown",
   "id": "1d4016eb",
   "metadata": {},
   "source": [
    "Exercise 1 - Create Table\n",
    "Create table - courses\n",
    "\n",
    "course_id - sequence generated integer and primary key\n",
    "course_name - which holds alpha numeric or string values up to 60 characters\n",
    "course_author - which holds the name of the author up to 40 characters\n",
    "course_status - which holds one of these values (published, draft, inactive).\n",
    "course_published_dt - which holds date type value.\n",
    "Provide the script as answer for this exercise."
   ]
  },
  {
   "cell_type": "code",
   "execution_count": null,
   "id": "ca6113bc",
   "metadata": {},
   "outputs": [],
   "source": [
    "%%sql \n",
    "CREATE TABLE courses (\n",
    "    course_id SERIAL PRIMARY KEY,\n",
    "    course_name VARCHAR(60),\n",
    "    course_author VARCHAR(40),\n",
    "    course_status VARCHAR(10) default 'inactive',\n",
    "    course_published_dt TIMESTAMP)"
   ]
  },
  {
   "cell_type": "markdown",
   "id": "a0ff1452",
   "metadata": {},
   "source": [
    "Exercise 2 - Inserting Data\n",
    "Insert data into courses using the data provided. Make sure id is system generated."
   ]
  },
  {
   "cell_type": "code",
   "execution_count": null,
   "id": "e7983ff2",
   "metadata": {},
   "outputs": [],
   "source": [
    "INSERT INTO courses (course_name , course_author , course_status , course_published_dt)\n",
    "VALUES  ('Programming using Python' , 'Bob Dillon' ,'published', '2020-09-30'),\n",
    "        ('Data Engineering using Python' , 'Bob Dillon' , 'published' , '2020-09-30'),\n",
    "        ('Data Engineering using Scala' , 'Elvis Presley' , 'draft' , null),\n",
    "        ('Programming using Scala' , 'Elvis Presley' , 'published' , '2020-05-12'),\n",
    "        ('Programming using Java' , 'Mike Jack' , 'inactive' , '2020-08-10'),\n",
    "        ('Web Applications - Python Flask' , 'Bob Dillon' , 'inactive' , '2020-07-20'),\n",
    "        ('Web Applications - Java Spring' , 'Bob Dillon' , 'draft' , null),\n",
    "        ('Pipeline Orchestration - Python' , 'Bob Dillon' , 'draft' , null),\n",
    "        ('Streaming Pipelines - Python' , 'Bob Dillon' , 'published' , '2020-10-05'),\n",
    "        ('Web Applications - Scala Play' , 'Elvis Presley' , 'inactive' , '2020-09-30'),\n",
    "        ('Web Applications - Python Django' , 'Bob Dillon' , 'published' , '2020-06-23'),\n",
    "        ('Server Automation - Ansible' , 'Uncle Sam' , 'published' , '2020-07-05')"
   ]
  },
  {
   "cell_type": "markdown",
   "id": "657303c2",
   "metadata": {},
   "source": [
    "Exercise 3 - Updating Data\n",
    "Update the status of all the draft courses related to Python and Scala to published along with the course_published_dt using system date.\n",
    "\n",
    "Provide the update statement as answer for this exercise."
   ]
  },
  {
   "cell_type": "code",
   "execution_count": null,
   "id": "0255b26d",
   "metadata": {},
   "outputs": [],
   "source": [
    "%%sql \n",
    "UPDATE courses\n",
    "    SET course_status = 'published',\n",
    "    course_published_dt = CURRENT_TIMESTAMP\n",
    "WHERE (course_name LIKE '%python%' OR course_name LIKE '%Scala%') and course_status= 'draft'    "
   ]
  },
  {
   "cell_type": "markdown",
   "id": "26578888",
   "metadata": {},
   "source": [
    "Exercise 4 - Deleting Data\n",
    "Delete all the courses which are neither in draft mode nor published.\n",
    "\n",
    "Provide the delete statement as answer for this exercise."
   ]
  },
  {
   "cell_type": "code",
   "execution_count": null,
   "id": "637f1481",
   "metadata": {},
   "outputs": [],
   "source": [
    "%%sql\n",
    "DELETE FROM courses WHERE course_status= 'inactive'"
   ]
  },
  {
   "cell_type": "markdown",
   "id": "232abfd7",
   "metadata": {},
   "source": [
    "Validation - Get count of all published courses by author and make sure output is sorted in descending order by count."
   ]
  },
  {
   "cell_type": "code",
   "execution_count": null,
   "id": "1e38b462",
   "metadata": {},
   "outputs": [],
   "source": [
    "SELECT course_author, count(1) AS course_count\n",
    "FROM courses\n",
    "WHERE course_status= 'published'\n",
    "GROUP BY course_author"
   ]
  }
 ],
 "metadata": {
  "kernelspec": {
   "display_name": "Python 3",
   "language": "python",
   "name": "python3"
  },
  "language_info": {
   "codemirror_mode": {
    "name": "ipython",
    "version": 3
   },
   "file_extension": ".py",
   "mimetype": "text/x-python",
   "name": "python",
   "nbconvert_exporter": "python",
   "pygments_lexer": "ipython3",
   "version": "3.6.12"
  }
 },
 "nbformat": 4,
 "nbformat_minor": 5
}
